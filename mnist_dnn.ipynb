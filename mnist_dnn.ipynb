{
 "cells": [
  {
   "cell_type": "code",
   "execution_count": 1,
   "metadata": {},
   "outputs": [],
   "source": [
    "import matplotlib.pyplot as plt\n",
    "import numpy as np\n",
    "import tensorflow as tf\n",
    "import pandas as pd\n",
    "import pymysql\n",
    "from sklearn.preprocessing import MinMaxScaler\n",
    "\n",
    "tf.set_random_seed(777)"
   ]
  },
  {
   "cell_type": "code",
   "execution_count": 2,
   "metadata": {},
   "outputs": [],
   "source": [
    "from tensorflow.examples.tutorials.mnist import input_data"
   ]
  },
  {
   "cell_type": "code",
   "execution_count": 3,
   "metadata": {},
   "outputs": [
    {
     "name": "stdout",
     "output_type": "stream",
     "text": [
      "WARNING:tensorflow:From <ipython-input-3-5815060b5483>:1: read_data_sets (from tensorflow.contrib.learn.python.learn.datasets.mnist) is deprecated and will be removed in a future version.\n",
      "Instructions for updating:\n",
      "Please use alternatives such as official/mnist/dataset.py from tensorflow/models.\n",
      "WARNING:tensorflow:From /usr/local/lib/python3.5/dist-packages/tensorflow/contrib/learn/python/learn/datasets/mnist.py:260: maybe_download (from tensorflow.contrib.learn.python.learn.datasets.base) is deprecated and will be removed in a future version.\n",
      "Instructions for updating:\n",
      "Please write your own downloading logic.\n",
      "WARNING:tensorflow:From /usr/local/lib/python3.5/dist-packages/tensorflow/contrib/learn/python/learn/datasets/mnist.py:262: extract_images (from tensorflow.contrib.learn.python.learn.datasets.mnist) is deprecated and will be removed in a future version.\n",
      "Instructions for updating:\n",
      "Please use tf.data to implement this functionality.\n",
      "Extracting mnist/train-images-idx3-ubyte.gz\n",
      "WARNING:tensorflow:From /usr/local/lib/python3.5/dist-packages/tensorflow/contrib/learn/python/learn/datasets/mnist.py:267: extract_labels (from tensorflow.contrib.learn.python.learn.datasets.mnist) is deprecated and will be removed in a future version.\n",
      "Instructions for updating:\n",
      "Please use tf.data to implement this functionality.\n",
      "Extracting mnist/train-labels-idx1-ubyte.gz\n",
      "WARNING:tensorflow:From /usr/local/lib/python3.5/dist-packages/tensorflow/contrib/learn/python/learn/datasets/mnist.py:110: dense_to_one_hot (from tensorflow.contrib.learn.python.learn.datasets.mnist) is deprecated and will be removed in a future version.\n",
      "Instructions for updating:\n",
      "Please use tf.one_hot on tensors.\n",
      "Extracting mnist/t10k-images-idx3-ubyte.gz\n",
      "Extracting mnist/t10k-labels-idx1-ubyte.gz\n",
      "WARNING:tensorflow:From /usr/local/lib/python3.5/dist-packages/tensorflow/contrib/learn/python/learn/datasets/mnist.py:290: DataSet.__init__ (from tensorflow.contrib.learn.python.learn.datasets.mnist) is deprecated and will be removed in a future version.\n",
      "Instructions for updating:\n",
      "Please use alternatives such as official/mnist/dataset.py from tensorflow/models.\n"
     ]
    }
   ],
   "source": [
    "mnist = input_data.read_data_sets(\"mnist\", one_hot=True)"
   ]
  },
  {
   "cell_type": "code",
   "execution_count": 4,
   "metadata": {},
   "outputs": [],
   "source": [
    "keep_prob = 0.7\n",
    "nb_classes = 10\n",
    "num_layer = 6\n",
    "learning_rate = 0.001\n",
    "training_epoch = 15\n",
    "batch_size = 100\n",
    "weight_init = tf.contrib.layers.xavier_initializer()\n",
    "\n",
    "X = tf.placeholder(tf.float32, shape=[None, 784])\n",
    "Y = tf.placeholder(tf.float32, shape=[None, nb_classes])\n",
    "keep_prob = tf.placeholder(tf.float32)\n",
    "\n",
    "b_list = [784, 512, 512, 125, 125, nb_classes]\n",
    "w_list = [[784, 784], [784, 512], [512, 512], [512, 125], [125, 125], [125, nb_classes]]"
   ]
  },
  {
   "cell_type": "code",
   "execution_count": 5,
   "metadata": {},
   "outputs": [],
   "source": [
    "def dense(x, W, b, activation=False, dropout=False, keep_prob=1.0):\n",
    "    z = tf.add(tf.matmul(x, W), b)\n",
    "    if activation:\n",
    "        z = tf.nn.relu(z)\n",
    "    if dropout:\n",
    "        z = tf.nn.dropout(z, keep_prob=keep_prob)\n",
    "    return z"
   ]
  },
  {
   "cell_type": "code",
   "execution_count": 6,
   "metadata": {},
   "outputs": [],
   "source": [
    "def network(x, weights, biases, num_layer, keep_prob=1.0):\n",
    "    _dense = None\n",
    "    for i, v in enumerate(zip(sorted(weights), sorted(biases))):\n",
    "        w = v[0]\n",
    "        b = v[1]\n",
    "        if i == 0:\n",
    "            _dense = dense(x, weights[w], biases[b], activation=True, dropout=True, keep_prob=keep_prob)\n",
    "        elif i == (num_layer - 1):\n",
    "            _dense = dense(_dense, weights[w], biases[b])\n",
    "        else:\n",
    "            _dense = dense(_dense, weights[w], biases[b], activation=True, dropout=True, keep_prob=keep_prob)\n",
    "    return _dense"
   ]
  },
  {
   "cell_type": "code",
   "execution_count": 7,
   "metadata": {},
   "outputs": [],
   "source": [
    "bias_dict = {'b'+str(i): tf.Variable(tf.random_normal([shapes])) for i, shapes in enumerate(b_list)}\n",
    "weight_dict = {'w'+str(i): tf.get_variable('w'+str(i), shapes, initializer=weight_init) for i, shapes in enumerate(w_list)}"
   ]
  },
  {
   "cell_type": "code",
   "execution_count": 8,
   "metadata": {},
   "outputs": [],
   "source": [
    "hypothesis = network(X, weights=weight_dict, biases=bias_dict, num_layer=num_layer, keep_prob=keep_prob)"
   ]
  },
  {
   "cell_type": "code",
   "execution_count": 9,
   "metadata": {},
   "outputs": [],
   "source": [
    "cost = tf.reduce_mean(tf.nn.softmax_cross_entropy_with_logits_v2(logits=hypothesis, labels=Y))\n",
    "optimizer = tf.train.AdamOptimizer(learning_rate=learning_rate).minimize(cost)"
   ]
  },
  {
   "cell_type": "code",
   "execution_count": 10,
   "metadata": {},
   "outputs": [],
   "source": [
    "is_correct = tf.equal(tf.argmax(hypothesis, 1), tf.argmax(Y, 1))\n",
    "accuracy = tf.reduce_mean(tf.cast(is_correct, tf.float32))"
   ]
  },
  {
   "cell_type": "code",
   "execution_count": 11,
   "metadata": {},
   "outputs": [
    {
     "name": "stdout",
     "output_type": "stream",
     "text": [
      "Epoch:  0001 Cost:  0.626879102\n",
      "Epoch:  0002 Cost:  0.203292643\n",
      "Epoch:  0003 Cost:  0.152090772\n",
      "Epoch:  0004 Cost:  0.120794811\n",
      "Epoch:  0005 Cost:  0.108736874\n",
      "Epoch:  0006 Cost:  0.090146769\n",
      "Epoch:  0007 Cost:  0.084605574\n",
      "Epoch:  0008 Cost:  0.080198392\n",
      "Epoch:  0009 Cost:  0.067030381\n",
      "Epoch:  0010 Cost:  0.065307336\n",
      "Epoch:  0011 Cost:  0.056555864\n",
      "Epoch:  0012 Cost:  0.061134016\n",
      "Epoch:  0013 Cost:  0.054387257\n",
      "Epoch:  0014 Cost:  0.053089166\n",
      "Epoch:  0015 Cost:  0.048949999\n",
      "Learning Finished\n",
      "Accuracy:  0.9835\n"
     ]
    }
   ],
   "source": [
    "with tf.Session() as sess:\n",
    "    sess.run(tf.global_variables_initializer())\n",
    "    for epoch in range(training_epoch):\n",
    "        avg_cost = 0\n",
    "        total_batch = int(mnist.train.num_examples / batch_size)\n",
    "        for i in range(total_batch):\n",
    "            batch_xs, batch_ys = mnist.train.next_batch(batch_size)\n",
    "            c, _ = sess.run([cost, optimizer], feed_dict={X:batch_xs, Y:batch_ys, keep_prob:0.7})\n",
    "            avg_cost += c/total_batch\n",
    "        print('Epoch: ', '%04d'%(epoch+1), 'Cost: ', '{:.9f}'.format(avg_cost))\n",
    "        \n",
    "    print('Learning Finished')\n",
    "    \n",
    "    print(\"Accuracy: \", accuracy.eval(session=sess, feed_dict={X:mnist.test.images, Y:mnist.test.labels, keep_prob:1}))"
   ]
  },
  {
   "cell_type": "code",
   "execution_count": null,
   "metadata": {},
   "outputs": [],
   "source": []
  }
 ],
 "metadata": {
  "kernelspec": {
   "display_name": "Python 3",
   "language": "python",
   "name": "python3"
  },
  "language_info": {
   "codemirror_mode": {
    "name": "ipython",
    "version": 3
   },
   "file_extension": ".py",
   "mimetype": "text/x-python",
   "name": "python",
   "nbconvert_exporter": "python",
   "pygments_lexer": "ipython3",
   "version": "3.5.2"
  }
 },
 "nbformat": 4,
 "nbformat_minor": 2
}
