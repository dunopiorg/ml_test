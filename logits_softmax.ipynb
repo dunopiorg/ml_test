{
 "cells": [
  {
   "cell_type": "code",
   "execution_count": 1,
   "metadata": {},
   "outputs": [],
   "source": [
    "import numpy as np\n",
    "import tensorflow as tf\n",
    "tf.set_random_seed(777)"
   ]
  },
  {
   "cell_type": "code",
   "execution_count": 2,
   "metadata": {},
   "outputs": [],
   "source": [
    "xy = np.loadtxt('./data/data-04-zoo.csv', delimiter=',', dtype=np.float32)"
   ]
  },
  {
   "cell_type": "code",
   "execution_count": 3,
   "metadata": {},
   "outputs": [],
   "source": [
    "x_data = xy[:, 0:-1]\n",
    "y_data = xy[:, [-1]]\n",
    "nb_classes = 7"
   ]
  },
  {
   "cell_type": "code",
   "execution_count": 5,
   "metadata": {},
   "outputs": [],
   "source": [
    "X = tf.placeholder(tf.float32, shape=[None, 16])\n",
    "Y = tf.placeholder(tf.int32, shape=[None, 1])\n",
    "\n",
    "Y_one_hot = tf.one_hot(Y, nb_classes)\n",
    "Y_one_hot = tf.reshape(Y_one_hot, [-1, nb_classes])\n",
    "\n",
    "W = tf.Variable(tf.random_normal([16, nb_classes]), name='weight1')\n",
    "b = tf.Variable(tf.random_normal([nb_classes]), name='bias1')\n",
    "\n",
    "logits = tf.add(tf.matmul(X, W), b)"
   ]
  },
  {
   "cell_type": "code",
   "execution_count": 6,
   "metadata": {},
   "outputs": [],
   "source": [
    "hypothesis = tf.nn.softmax(logits)\n",
    "_cost = tf.nn.softmax_cross_entropy_with_logits_v2(logits=logits, labels=Y_one_hot)\n",
    "cost = tf.reduce_mean(_cost)\n",
    "train = tf.train.GradientDescentOptimizer(learning_rate=0.01).minimize(cost)"
   ]
  },
  {
   "cell_type": "code",
   "execution_count": 7,
   "metadata": {},
   "outputs": [],
   "source": [
    "prediction = tf.argmax(hypothesis, 1)\n",
    "correct_prediction = tf.equal(prediction, tf.argmax(Y_one_hot, 1))\n",
    "accuracy = tf.reduce_mean(tf.cast(correct_prediction, dtype=tf.float32))"
   ]
  },
  {
   "cell_type": "code",
   "execution_count": 8,
   "metadata": {},
   "outputs": [
    {
     "name": "stdout",
     "output_type": "stream",
     "text": [
      "0 Cost:  4.985375 Accuracy:  0.22772278\n",
      "100 Cost:  3.178226 Accuracy:  0.55445546\n",
      "200 Cost:  2.3135798 Accuracy:  0.5841584\n",
      "300 Cost:  1.6478957 Accuracy:  0.6138614\n",
      "400 Cost:  1.3361968 Accuracy:  0.6633663\n",
      "500 Cost:  1.1690944 Accuracy:  0.6633663\n",
      "600 Cost:  1.0453879 Accuracy:  0.76237625\n",
      "700 Cost:  0.9455753 Accuracy:  0.77227724\n",
      "800 Cost:  0.8622833 Accuracy:  0.8217822\n",
      "900 Cost:  0.79133123 Accuracy:  0.83168316\n",
      "[True] Predcition: 0 True Y: 0\n",
      "[True] Predcition: 0 True Y: 0\n",
      "[True] Predcition: 3 True Y: 3\n",
      "[True] Predcition: 0 True Y: 0\n",
      "[True] Predcition: 0 True Y: 0\n",
      "[True] Predcition: 0 True Y: 0\n",
      "[True] Predcition: 0 True Y: 0\n",
      "[True] Predcition: 3 True Y: 3\n",
      "[True] Predcition: 3 True Y: 3\n",
      "[True] Predcition: 0 True Y: 0\n",
      "[True] Predcition: 0 True Y: 0\n",
      "[True] Predcition: 1 True Y: 1\n",
      "[True] Predcition: 3 True Y: 3\n",
      "[False] Predcition: 5 True Y: 6\n",
      "[False] Predcition: 5 True Y: 6\n",
      "[True] Predcition: 6 True Y: 6\n",
      "[True] Predcition: 1 True Y: 1\n",
      "[True] Predcition: 0 True Y: 0\n",
      "[True] Predcition: 3 True Y: 3\n",
      "[False] Predcition: 3 True Y: 0\n",
      "[True] Predcition: 1 True Y: 1\n",
      "[True] Predcition: 1 True Y: 1\n",
      "[True] Predcition: 0 True Y: 0\n",
      "[True] Predcition: 1 True Y: 1\n",
      "[True] Predcition: 5 True Y: 5\n",
      "[False] Predcition: 5 True Y: 4\n",
      "[False] Predcition: 5 True Y: 4\n",
      "[True] Predcition: 0 True Y: 0\n",
      "[True] Predcition: 0 True Y: 0\n",
      "[True] Predcition: 0 True Y: 0\n",
      "[True] Predcition: 5 True Y: 5\n",
      "[True] Predcition: 0 True Y: 0\n",
      "[True] Predcition: 0 True Y: 0\n",
      "[True] Predcition: 1 True Y: 1\n",
      "[True] Predcition: 3 True Y: 3\n",
      "[True] Predcition: 0 True Y: 0\n",
      "[True] Predcition: 0 True Y: 0\n",
      "[True] Predcition: 1 True Y: 1\n",
      "[True] Predcition: 3 True Y: 3\n",
      "[False] Predcition: 6 True Y: 5\n",
      "[True] Predcition: 5 True Y: 5\n",
      "[True] Predcition: 1 True Y: 1\n",
      "[True] Predcition: 5 True Y: 5\n",
      "[True] Predcition: 1 True Y: 1\n",
      "[True] Predcition: 0 True Y: 0\n",
      "[True] Predcition: 0 True Y: 0\n",
      "[True] Predcition: 6 True Y: 6\n",
      "[True] Predcition: 0 True Y: 0\n",
      "[True] Predcition: 0 True Y: 0\n",
      "[True] Predcition: 0 True Y: 0\n",
      "[True] Predcition: 0 True Y: 0\n",
      "[True] Predcition: 5 True Y: 5\n",
      "[False] Predcition: 1 True Y: 4\n",
      "[True] Predcition: 6 True Y: 6\n",
      "[True] Predcition: 0 True Y: 0\n",
      "[True] Predcition: 0 True Y: 0\n",
      "[True] Predcition: 1 True Y: 1\n",
      "[True] Predcition: 1 True Y: 1\n",
      "[True] Predcition: 1 True Y: 1\n",
      "[True] Predcition: 1 True Y: 1\n",
      "[True] Predcition: 3 True Y: 3\n",
      "[True] Predcition: 3 True Y: 3\n",
      "[False] Predcition: 3 True Y: 2\n",
      "[True] Predcition: 0 True Y: 0\n",
      "[True] Predcition: 0 True Y: 0\n",
      "[True] Predcition: 0 True Y: 0\n",
      "[False] Predcition: 3 True Y: 0\n",
      "[True] Predcition: 0 True Y: 0\n",
      "[True] Predcition: 0 True Y: 0\n",
      "[True] Predcition: 0 True Y: 0\n",
      "[True] Predcition: 0 True Y: 0\n",
      "[True] Predcition: 1 True Y: 1\n",
      "[True] Predcition: 6 True Y: 6\n",
      "[True] Predcition: 3 True Y: 3\n",
      "[False] Predcition: 3 True Y: 0\n",
      "[True] Predcition: 0 True Y: 0\n",
      "[True] Predcition: 2 True Y: 2\n",
      "[False] Predcition: 5 True Y: 6\n",
      "[True] Predcition: 1 True Y: 1\n",
      "[True] Predcition: 1 True Y: 1\n",
      "[False] Predcition: 3 True Y: 2\n",
      "[False] Predcition: 3 True Y: 6\n",
      "[True] Predcition: 3 True Y: 3\n",
      "[True] Predcition: 1 True Y: 1\n",
      "[True] Predcition: 0 True Y: 0\n",
      "[True] Predcition: 6 True Y: 6\n",
      "[True] Predcition: 3 True Y: 3\n",
      "[True] Predcition: 1 True Y: 1\n",
      "[True] Predcition: 5 True Y: 5\n",
      "[False] Predcition: 5 True Y: 4\n",
      "[False] Predcition: 6 True Y: 2\n",
      "[False] Predcition: 1 True Y: 2\n",
      "[True] Predcition: 3 True Y: 3\n",
      "[True] Predcition: 0 True Y: 0\n",
      "[True] Predcition: 0 True Y: 0\n",
      "[True] Predcition: 1 True Y: 1\n",
      "[True] Predcition: 0 True Y: 0\n",
      "[True] Predcition: 5 True Y: 5\n",
      "[True] Predcition: 0 True Y: 0\n",
      "[False] Predcition: 3 True Y: 6\n",
      "[True] Predcition: 1 True Y: 1\n"
     ]
    }
   ],
   "source": [
    "with tf.Session() as sess:\n",
    "    sess.run(tf.global_variables_initializer())\n",
    "    \n",
    "    for step in range(1000):\n",
    "        loss, _, acc = sess.run([cost, train, accuracy], feed_dict={X: x_data, Y: y_data})\n",
    "        \n",
    "        if step % 100 == 0:\n",
    "            print(step, 'Cost: ', loss, 'Accuracy: ', acc)\n",
    "            \n",
    "    pred = sess.run(prediction, feed_dict={X: x_data})\n",
    "    for p, y in zip(pred, y_data.flatten()):\n",
    "        print(\"[{}] Predcition: {} True Y: {}\".format(p == int(y), p, int(y)))"
   ]
  },
  {
   "cell_type": "code",
   "execution_count": null,
   "metadata": {},
   "outputs": [],
   "source": []
  }
 ],
 "metadata": {
  "kernelspec": {
   "display_name": "Python 3",
   "language": "python",
   "name": "python3"
  },
  "language_info": {
   "codemirror_mode": {
    "name": "ipython",
    "version": 3
   },
   "file_extension": ".py",
   "mimetype": "text/x-python",
   "name": "python",
   "nbconvert_exporter": "python",
   "pygments_lexer": "ipython3",
   "version": "3.5.2"
  }
 },
 "nbformat": 4,
 "nbformat_minor": 2
}
